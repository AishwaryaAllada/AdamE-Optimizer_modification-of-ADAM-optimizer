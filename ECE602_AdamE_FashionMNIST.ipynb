{
  "nbformat": 4,
  "nbformat_minor": 0,
  "metadata": {
    "colab": {
      "name": "FashionMNIST_AlexNet_GraphTry.ipynb",
      "provenance": [],
      "collapsed_sections": []
    },
    "kernelspec": {
      "name": "python3",
      "display_name": "Python 3"
    },
    "accelerator": "GPU"
  },
  "cells": [
    {
      "cell_type": "code",
      "metadata": {
        "id": "eXYltThDIVHR",
        "colab_type": "code",
        "colab": {}
      },
      "source": [
        "import os\n",
        "import torch\n",
        "import torchvision\n",
        "import numpy as np\n",
        "import pandas as pd\n",
        "import torch.nn as nn\n",
        "import torch.optim as optim\n",
        "import matplotlib.pyplot as plt\n",
        "import torch.nn.functional as F\n",
        "from PIL import Image\n",
        "\n",
        "from torchvision import transforms, datasets\n",
        "from torch.utils.data import Dataset, DataLoader"
      ],
      "execution_count": 0,
      "outputs": []
    },
    {
      "cell_type": "code",
      "metadata": {
        "id": "GH76t6HFRfRF",
        "colab_type": "code",
        "outputId": "d859e241-519f-4253-bce2-4f99152d9783",
        "colab": {
          "base_uri": "https://localhost:8080/",
          "height": 34
        }
      },
      "source": [
        "print(torch.__version__)"
      ],
      "execution_count": 0,
      "outputs": [
        {
          "output_type": "stream",
          "text": [
            "1.4.0\n"
          ],
          "name": "stdout"
        }
      ]
    },
    {
      "cell_type": "code",
      "metadata": {
        "id": "4dMzSJKNzNty",
        "colab_type": "code",
        "colab": {}
      },
      "source": [
        "class AdamE(optim.Optimizer):\n",
        "    r\"\"\"Implements AdamE with enforced decay algorithm.\n",
        "    \"\"\"\n",
        "\n",
        "    def __init__(self, params, lr=1e-3, betas=(0.9, 0.999), eps=1e-8,\n",
        "                 M=10, weight_decay=0):\n",
        "        if not 0.0 <= lr:\n",
        "            raise ValueError(\"Invalid learning rate: {}\".format(lr))\n",
        "        if not 0.0 <= eps:\n",
        "            raise ValueError(\"Invalid epsilon value: {}\".format(eps))\n",
        "        if not 0 <= M:\n",
        "            raise ValueError(\"Invalid M value: {}\".format(M))\n",
        "        if not 0.0 <= betas[0] < 1.0:\n",
        "            raise ValueError(\"Invalid beta parameter at index 0: {}\".format(betas[0]))\n",
        "        if not 0.0 <= betas[1] < 1.0:\n",
        "            raise ValueError(\"Invalid beta parameter at index 1: {}\".format(betas[1]))\n",
        "        defaults = dict(lr=lr, betas=betas, eps=eps, M=M,\n",
        "                        weight_decay=weight_decay)\n",
        "        super(AdamE, self).__init__(params, defaults)\n",
        "\n",
        "    def __setstate__(self, state):\n",
        "        super(AdamE, self).__setstate__(state)\n",
        "\n",
        "    def step(self, closure=None):\n",
        "        \"\"\"Performs a single optimization step.\n",
        "        Arguments:\n",
        "             closure (callable, optional): A closure that reevaluates the model\n",
        "                 and returns the loss.\n",
        "        \"\"\"\n",
        "        loss = None\n",
        "        if closure is not None:\n",
        "            loss = closure()\n",
        "\n",
        "        for group in self.param_groups:\n",
        "            for p in group['params']:\n",
        "                if p.grad is None:\n",
        "                    continue\n",
        "                grad = p.grad.data\n",
        "                if grad.is_sparse:\n",
        "                    raise RuntimeError('Adam does not support sparse gradients, please consider SparseAdam instead')\n",
        "\n",
        "                state = self.state[p]\n",
        "\n",
        "                # State initialization\n",
        "                if len(state) == 0:\n",
        "                    state['step'] = 0\n",
        "                    # moving average of gradient values(Exponential moving average of gradient values)\n",
        "                    state['avg'] = torch.zeros_like(p.data) \n",
        "                    # moving average of squared gradient values(Exponential moving average of squared gradient values)\n",
        "                    state['avg_sq'] = torch.zeros_like(p.data)\n",
        "                    # t - M + 1 step gradient\n",
        "                    state['t_M_1'] = torch.zeros_like(p.data)\n",
        "\n",
        "                avg, avg_sq = state['avg'], state['avg_sq']\n",
        "                t_M_1 = state['t_M_1']\n",
        "                beta1, beta2 = group['betas']\n",
        "                M = group['M']\n",
        "                \n",
        "                factor = 1./M\n",
        "\n",
        "                state['step'] += 1\n",
        "\n",
        "                if group['weight_decay'] != 0:\n",
        "                    grad.add_(group['weight_decay'], p.data)\n",
        "\n",
        "                if state['step'] == 1: # do it manually at the first iteration\n",
        "                    avg.add_(grad, alpha=factor) # avg_at_t = avg_at_t-1 + (1/M) * grad\n",
        "                    avg_sq.addcmul_(grad, grad, value=factor)\n",
        "                    t_M_1.add_(grad)\n",
        "                elif not state['step'] % (M + 1):\n",
        "                    # do averaging at M + 1 iteration\n",
        "                    grad.add_(-t_M_1, alpha=factor) # change gradients to (1/M) * (x[n] - x[n-M+1])\n",
        "                    avg.add_(grad, alpha=factor) # avg_at_t = avg_at_t-1 + (1/M) * grad\n",
        "                    avg_sq.addcmul_(grad, grad, value=factor)\n",
        "                    \n",
        "                    t_M_1 = torch.zeros_like(grad)\n",
        "                    t_M_1.add_(grad)\n",
        "                else:\n",
        "                    avg.add_(grad, alpha=factor) # avg_at_t = avg_at_t-1 + (1/M) * grad\n",
        "                    avg_sq.addcmul_(grad, grad, value=factor) # do the same but grad^2\n",
        "\n",
        "                denom = (avg_sq.sqrt() * M).add_(group['eps'])\n",
        "                step_size = group['lr'] * M\n",
        "                p.data.addcdiv_(-step_size, avg, denom)\n",
        "                \n",
        "                if not state['step'] % (M + 1):\n",
        "                    # To think - do we need to reset\n",
        "                    # averages buffers after averaging?\n",
        "                    avg = torch.zeros_like(grad)\n",
        "                    avg_sq = torch.zeros_like(grad)\n",
        "\n",
        "        return loss"
      ],
      "execution_count": 0,
      "outputs": []
    },
    {
      "cell_type": "code",
      "metadata": {
        "id": "5912fRHqIdPs",
        "colab_type": "code",
        "outputId": "0b51f665-b7a7-407d-d2bc-2b2513430a4c",
        "colab": {
          "base_uri": "https://localhost:8080/",
          "height": 51
        }
      },
      "source": [
        "# training batches of our network\n",
        "EPOCHS = 15\n",
        "# size of each batch\n",
        "BATCH_SIZE = 512\n",
        "\n",
        "DEVICE = (\"cuda\" if torch.cuda.is_available() else \"cpu\")\n",
        "class_names = ['T-shirt/top', 'Trouser', 'Pullover', 'Dress', 'Coat',\n",
        "               'Sandal', 'Shirt', 'Sneaker', 'Bag', 'Ankle boot']\n",
        "\n",
        "print(torch.__version__)\n",
        "\n",
        "print(DEVICE)"
      ],
      "execution_count": 0,
      "outputs": [
        {
          "output_type": "stream",
          "text": [
            "1.4.0\n",
            "cuda\n"
          ],
          "name": "stdout"
        }
      ]
    },
    {
      "cell_type": "code",
      "metadata": {
        "id": "hOj_7Y20Ih_A",
        "colab_type": "code",
        "outputId": "1729bb15-6b29-4d8c-d15a-b9d2d33c6e2d",
        "colab": {
          "base_uri": "https://localhost:8080/",
          "height": 122
        }
      },
      "source": [
        "from google.colab import drive\n",
        "\n",
        "# mount your Google Drive\n",
        "drive.mount(\"/content/gdrive\") "
      ],
      "execution_count": 0,
      "outputs": [
        {
          "output_type": "stream",
          "text": [
            "Go to this URL in a browser: https://accounts.google.com/o/oauth2/auth?client_id=947318989803-6bn6qk8qdgf4n4g3pfee6491hc0brc4i.apps.googleusercontent.com&redirect_uri=urn%3aietf%3awg%3aoauth%3a2.0%3aoob&response_type=code&scope=email%20https%3a%2f%2fwww.googleapis.com%2fauth%2fdocs.test%20https%3a%2f%2fwww.googleapis.com%2fauth%2fdrive%20https%3a%2f%2fwww.googleapis.com%2fauth%2fdrive.photos.readonly%20https%3a%2f%2fwww.googleapis.com%2fauth%2fpeopleapi.readonly\n",
            "\n",
            "Enter your authorization code:\n",
            "··········\n",
            "Mounted at /content/gdrive\n"
          ],
          "name": "stdout"
        }
      ]
    },
    {
      "cell_type": "code",
      "metadata": {
        "id": "zXzfHF0uJP_s",
        "colab_type": "code",
        "colab": {}
      },
      "source": [
        "train_csv = pd.read_csv('/content/gdrive/My Drive/fashion-mnist_train.csv')\n",
        "test_csv = pd.read_csv('/content/gdrive/My Drive/fashion-mnist_test.csv')"
      ],
      "execution_count": 0,
      "outputs": []
    },
    {
      "cell_type": "code",
      "metadata": {
        "id": "lbmEkMCLKOal",
        "colab_type": "code",
        "outputId": "f3a44901-3592-4305-b327-2b01188c3f14",
        "colab": {
          "base_uri": "https://localhost:8080/",
          "height": 51
        }
      },
      "source": [
        "print(train_csv.shape)\n",
        "print(test_csv.shape)"
      ],
      "execution_count": 0,
      "outputs": [
        {
          "output_type": "stream",
          "text": [
            "(60000, 785)\n",
            "(10000, 785)\n"
          ],
          "name": "stdout"
        }
      ]
    },
    {
      "cell_type": "code",
      "metadata": {
        "id": "LDbsSxsFLYQO",
        "colab_type": "code",
        "outputId": "a2141d82-4f03-4616-c833-842e9743155a",
        "colab": {
          "base_uri": "https://localhost:8080/",
          "height": 255
        }
      },
      "source": [
        "print(train_csv.info())\n",
        "print(train_csv.head())"
      ],
      "execution_count": 0,
      "outputs": [
        {
          "output_type": "stream",
          "text": [
            "<class 'pandas.core.frame.DataFrame'>\n",
            "RangeIndex: 60000 entries, 0 to 59999\n",
            "Columns: 785 entries, label to pixel784\n",
            "dtypes: int64(785)\n",
            "memory usage: 359.3 MB\n",
            "None\n",
            "   label  pixel1  pixel2  pixel3  ...  pixel781  pixel782  pixel783  pixel784\n",
            "0      2       0       0       0  ...         0         0         0         0\n",
            "1      9       0       0       0  ...         0         0         0         0\n",
            "2      6       0       0       0  ...         0         0         0         0\n",
            "3      0       0       0       0  ...         0         0         0         0\n",
            "4      3       0       0       0  ...         0         0         0         0\n",
            "\n",
            "[5 rows x 785 columns]\n"
          ],
          "name": "stdout"
        }
      ]
    },
    {
      "cell_type": "code",
      "metadata": {
        "id": "9vjRmxNeRjJc",
        "colab_type": "code",
        "colab": {}
      },
      "source": [
        "class FashionDataset(Dataset):\n",
        "    def __init__(self, data, transform=None):        \n",
        "        self.fashion_MNIST = list(data.values)\n",
        "        self.transform = transform\n",
        "        \n",
        "        label, image = [], []\n",
        "        \n",
        "        for i in self.fashion_MNIST:\n",
        "            label.append(i[0])\n",
        "            image.append(i[1:])\n",
        "        self.labels = np.asarray(label)\n",
        "        self.images = np.asarray(image).reshape(-1, 28, 28).astype('float32')\n",
        "\n",
        "    def __len__(self):\n",
        "        return len(self.images)\n",
        "    \n",
        "    def __getitem__(self, idx):\n",
        "        label = self.labels[idx]\n",
        "        image = self.images[idx]      \n",
        "        \n",
        "        if self.transform is not None:\n",
        "            # transfrom the numpy array to PIL image before the transform function\n",
        "            pil_image = Image.fromarray(np.uint8(image)) \n",
        "            image = self.transform(pil_image)\n",
        "            \n",
        "        return image, label\n"
      ],
      "execution_count": 0,
      "outputs": []
    },
    {
      "cell_type": "code",
      "metadata": {
        "id": "V_TXRmQ4Rusm",
        "colab_type": "code",
        "colab": {}
      },
      "source": [
        "AlexTransform = transforms.Compose([\n",
        "    transforms.Resize((227, 227)),\n",
        "    transforms.ToTensor(),\n",
        "    transforms.Normalize((0.1307,), (0.3081,))\n",
        "])"
      ],
      "execution_count": 0,
      "outputs": []
    },
    {
      "cell_type": "code",
      "metadata": {
        "id": "Uxubdww2RxMv",
        "colab_type": "code",
        "colab": {}
      },
      "source": [
        "train_loader = DataLoader(\n",
        "    FashionDataset(train_csv, transform=AlexTransform), \n",
        "    batch_size=BATCH_SIZE, shuffle=True)\n",
        "\n",
        "test_loader = DataLoader(\n",
        "    FashionDataset(test_csv, transform=AlexTransform), \n",
        "    batch_size=BATCH_SIZE, shuffle=True)"
      ],
      "execution_count": 0,
      "outputs": []
    },
    {
      "cell_type": "code",
      "metadata": {
        "id": "S4UjlgIVXpo4",
        "colab_type": "code",
        "colab": {}
      },
      "source": [
        "train_losses = []\n",
        "train_counter = []\n",
        "test_losses = []\n",
        "test_counter = [i*len(train_loader.dataset) for i in range(EPOCHS + 1)]"
      ],
      "execution_count": 0,
      "outputs": []
    },
    {
      "cell_type": "code",
      "metadata": {
        "id": "BVgWJO5mRzWt",
        "colab_type": "code",
        "outputId": "fd08c50d-e253-4b13-95e0-2cc06395d7be",
        "colab": {
          "base_uri": "https://localhost:8080/",
          "height": 286
        }
      },
      "source": [
        "\n",
        "# helper function to show an image\n",
        "def matplotlib_imshow(img):\n",
        "    img = img.mean(dim=0)\n",
        "    img = img / 2 + 0.5     # unnormalize\n",
        "    npimg = img.numpy()\n",
        "    plt.imshow(npimg, cmap=\"Greys\")\n",
        "\n",
        "# get some random training images\n",
        "dataiter = iter(train_loader)\n",
        "images, labels = dataiter.next()\n",
        "\n",
        "# creat grid of images\n",
        "img_grid = torchvision.utils.make_grid(images[0])\n",
        "\n",
        "# show images & labels\n",
        "matplotlib_imshow(img_grid)\n",
        "print(class_names[labels[0]])"
      ],
      "execution_count": 0,
      "outputs": [
        {
          "output_type": "stream",
          "text": [
            "Shirt\n"
          ],
          "name": "stdout"
        },
        {
          "output_type": "display_data",
          "data": {
            "image/png": "[encoded data removed]",
            "text/plain": [
              "<Figure size 432x288 with 1 Axes>"
            ]
          },
          "metadata": {
            "tags": [],
            "needs_background": "light"
          }
        }
      ]
    },
    {
      "cell_type": "code",
      "metadata": {
        "id": "d3mDNg8tR1gj",
        "colab_type": "code",
        "colab": {}
      },
      "source": [
        "class fasion_mnist_alexnet(nn.Module):  \n",
        "    def __init__(self):\n",
        "        super().__init__()\n",
        "        self.conv1 = nn.Sequential(\n",
        "            nn.Conv2d(in_channels=1, out_channels=96, kernel_size=11, stride=4, padding=0),\n",
        "            nn.ReLU(),\n",
        "            nn.MaxPool2d(kernel_size=3, stride=2)\n",
        "        )\n",
        "        self.conv2 = nn.Sequential(\n",
        "            nn.Conv2d(96, 256, 5, 1, 2),\n",
        "            nn.ReLU(),\n",
        "            nn.MaxPool2d(3, 2)\n",
        "        )\n",
        "        self.conv3 = nn.Sequential(\n",
        "            nn.Conv2d(256, 384, 3, 1, 1),\n",
        "            nn.ReLU()\n",
        "        )\n",
        "        self.conv4 = nn.Sequential(\n",
        "            nn.Conv2d(384, 384, 3, 1, 1),\n",
        "            nn.ReLU()\n",
        "        )\n",
        "        self.conv5 = nn.Sequential(\n",
        "            nn.Conv2d(384, 256, 3, 1, 1),\n",
        "            nn.ReLU(),\n",
        "            nn.MaxPool2d(3, 2)\n",
        "        )\n",
        "\n",
        "        self.fc1 = nn.Linear(256 * 6 * 6, 4096)\n",
        "        self.fc2 = nn.Linear(4096, 4096)\n",
        "        self.fc3 = nn.Linear(4096, 10)\n",
        "\n",
        "    def forward(self, x):\n",
        "        out = self.conv1(x)\n",
        "        out = self.conv2(out)\n",
        "        out = self.conv3(out)\n",
        "        out = self.conv4(out)\n",
        "        out = self.conv5(out)\n",
        "        out = out.view(out.size(0), -1)\n",
        "\n",
        "        out = F.relu(self.fc1(out))  # 256*6*6 -> 4096\n",
        "        out = F.dropout(out, 0.5)\n",
        "        out = F.relu(self.fc2(out))\n",
        "        out = F.dropout(out, 0.5)\n",
        "        out = self.fc3(out)\n",
        "        out = F.log_softmax(out, dim=1)\n",
        "\n",
        "        return out"
      ],
      "execution_count": 0,
      "outputs": []
    },
    {
      "cell_type": "code",
      "metadata": {
        "id": "CVIV2NTiR883",
        "colab_type": "code",
        "colab": {}
      },
      "source": [
        "model = fasion_mnist_alexnet().to(DEVICE)\n",
        "torch.save(model.state_dict(), '/content/gdrive/My Drive/initial_weights.pth')\n",
        "criterion = F.nll_loss\n",
        "optimizer = optim.Adam(model.parameters(), lr = 5e-6)"
      ],
      "execution_count": 0,
      "outputs": []
    },
    {
      "cell_type": "code",
      "metadata": {
        "id": "vNhR83RAR_Wq",
        "colab_type": "code",
        "colab": {}
      },
      "source": [
        "def train(model, device, train_loader, optimer, epoch):\n",
        "    model.train()\n",
        "    for batch_idx, (data, target) in enumerate(train_loader):\n",
        "        target = target.type(torch.LongTensor)\n",
        "        data, target = data.to(device), target.to(device)\n",
        "        optimizer.zero_grad()\n",
        "        output = model(data)\n",
        "        loss = criterion(output, target)\n",
        "        loss.backward()\n",
        "        optimizer.step()\n",
        "\n",
        "        if (batch_idx + 1) % 30 == 0:\n",
        "            print(\"Train Epoch:{} [{}/{} ({:.0f}%)]\\tLoss: {:.6f}\".format(\n",
        "                epoch, batch_idx * len(data), len(train_loader.dataset),\n",
        "                100. * batch_idx / len(train_loader), loss.item()))\n",
        "            train_losses.append(loss.item())\n",
        "            train_counter.append((batch_idx*64) + ((epoch-1)*len(train_loader.dataset)))\n",
        "    checkpoint = {'model': fasion_mnist_alexnet(),\n",
        "                  'state_dict': model.state_dict(),\n",
        "                  'optimizer' : optimizer.state_dict()}\n",
        "    torch.save(checkpoint, '/content/gdrive/My Drive/ADAM_fashion_mnist.pth')\n"
      ],
      "execution_count": 0,
      "outputs": []
    },
    {
      "cell_type": "code",
      "metadata": {
        "id": "HTPJZqY-t4Kq",
        "colab_type": "code",
        "colab": {}
      },
      "source": [
        "# acc = []\n",
        "# def test(model, device, test_loader):\n",
        "#     model.eval()\n",
        "#     test_loss = 0\n",
        "#     correct = 0\n",
        "#     with torch.no_grad():\n",
        "#         for data, target in test_loader:\n",
        "#             data, target = data.to(device), target.to(device)\n",
        "#             output = model(data)\n",
        "#             test_loss += criterion(output, target, reduction='sum').item()\n",
        "#             pred = output.max(1, keepdim=True)[1]\n",
        "#             correct += pred.eq(target.view_as(pred)).sum().item()\n",
        "#     test_loss /= len(test_loader.dataset)  \n",
        "#     test_losses.append(test_loss)\n",
        "#     calc=100. * correct / len(test_loader.dataset)\n",
        "#     acc.append(calc)\n",
        "#     print(\"\\nTest set: Average loss: {:.4f}, Accuracy: {}/{} ({:.0f}%)\\n\".format(\n",
        "#             test_loss, correct, len(test_loader.dataset), 100. * correct / len(test_loader.dataset)))\n",
        "#     print('='*50)\n",
        "\n",
        "\n",
        "# print(acc)"
      ],
      "execution_count": 0,
      "outputs": []
    },
    {
      "cell_type": "code",
      "metadata": {
        "id": "3TJ6wO7H6LU-",
        "colab_type": "code",
        "outputId": "734bc430-1214-40b3-e0ce-0a10e735678d",
        "colab": {
          "base_uri": "https://localhost:8080/",
          "height": 34
        }
      },
      "source": [
        "acc = []\n",
        "ls = []\n",
        "def test(model, device, test_loader):\n",
        "    model.eval()\n",
        "    test_loss = 0\n",
        "    correct = 0\n",
        "    with torch.no_grad():\n",
        "        for data, target in test_loader:\n",
        "            data, target = data.to(device), target.to(device)\n",
        "            output = model(data)\n",
        "            test_loss += criterion(output, target, reduction='sum').item()\n",
        "            pred = output.max(1, keepdim=True)[1]\n",
        "            correct += pred.eq(target.view_as(pred)).sum().item()\n",
        "    test_loss /= len(test_loader.dataset)  \n",
        "    test_losses.append(test_loss)\n",
        "    calc=100. * correct / len(test_loader.dataset)\n",
        "    acc.append(calc)\n",
        "    ls.append(test_loss)\n",
        "    print(\"\\nTest set: Average loss: {:.4f}, Accuracy: {}/{} ({:.0f}%)\\n\".format(\n",
        "            test_loss, correct, len(test_loader.dataset), 100. * correct / len(test_loader.dataset)))\n",
        "    print('='*50)\n",
        "\n",
        "\n",
        "print(acc)"
      ],
      "execution_count": 0,
      "outputs": [
        {
          "output_type": "stream",
          "text": [
            "[]\n"
          ],
          "name": "stdout"
        }
      ]
    },
    {
      "cell_type": "code",
      "metadata": {
        "id": "Jg-mB0ZOSIQa",
        "colab_type": "code",
        "outputId": "8da9914a-e228-4e48-a70a-13a2648db4f8",
        "colab": {
          "base_uri": "https://localhost:8080/",
          "height": 1000
        }
      },
      "source": [
        "%%time\n",
        "for epoch in range(1, EPOCHS+1):\n",
        "    train(model, DEVICE, train_loader, optimizer, epoch)\n",
        "    test(model, DEVICE, test_loader)\n"
      ],
      "execution_count": 0,
      "outputs": [
        {
          "output_type": "stream",
          "text": [
            "Train Epoch:1 [14848/60000 (25%)]\tLoss: 2.266076\n",
            "Train Epoch:1 [30208/60000 (50%)]\tLoss: 1.898034\n",
            "Train Epoch:1 [45568/60000 (75%)]\tLoss: 1.155612\n"
          ],
          "name": "stdout"
        },
        {
          "output_type": "stream",
          "text": [
            "/usr/local/lib/python3.6/dist-packages/torch/serialization.py:360: UserWarning: Couldn't retrieve source code for container of type fasion_mnist_alexnet. It won't be checked for correctness upon loading.\n",
            "  \"type \" + obj.__name__ + \". It won't be checked \"\n"
          ],
          "name": "stderr"
        },
        {
          "output_type": "stream",
          "text": [
            "\n",
            "Test set: Average loss: 0.9992, Accuracy: 6203/10000 (62%)\n",
            "\n",
            "==================================================\n",
            "Train Epoch:2 [14848/60000 (25%)]\tLoss: 0.991461\n",
            "Train Epoch:2 [30208/60000 (50%)]\tLoss: 0.850332\n",
            "Train Epoch:2 [45568/60000 (75%)]\tLoss: 0.813436\n",
            "\n",
            "Test set: Average loss: 0.7844, Accuracy: 7038/10000 (70%)\n",
            "\n",
            "==================================================\n",
            "Train Epoch:3 [14848/60000 (25%)]\tLoss: 0.739820\n",
            "Train Epoch:3 [30208/60000 (50%)]\tLoss: 0.654756\n",
            "Train Epoch:3 [45568/60000 (75%)]\tLoss: 0.630525\n",
            "\n",
            "Test set: Average loss: 0.6760, Accuracy: 7522/10000 (75%)\n",
            "\n",
            "==================================================\n",
            "Train Epoch:4 [14848/60000 (25%)]\tLoss: 0.622216\n",
            "Train Epoch:4 [30208/60000 (50%)]\tLoss: 0.696402\n",
            "Train Epoch:4 [45568/60000 (75%)]\tLoss: 0.611027\n",
            "\n",
            "Test set: Average loss: 0.6139, Accuracy: 7666/10000 (77%)\n",
            "\n",
            "==================================================\n",
            "Train Epoch:5 [14848/60000 (25%)]\tLoss: 0.628557\n",
            "Train Epoch:5 [30208/60000 (50%)]\tLoss: 0.618680\n",
            "Train Epoch:5 [45568/60000 (75%)]\tLoss: 0.531177\n",
            "\n",
            "Test set: Average loss: 0.5736, Accuracy: 7835/10000 (78%)\n",
            "\n",
            "==================================================\n",
            "Train Epoch:6 [14848/60000 (25%)]\tLoss: 0.532737\n",
            "Train Epoch:6 [30208/60000 (50%)]\tLoss: 0.501003\n",
            "Train Epoch:6 [45568/60000 (75%)]\tLoss: 0.626927\n",
            "\n",
            "Test set: Average loss: 0.5448, Accuracy: 7949/10000 (79%)\n",
            "\n",
            "==================================================\n",
            "Train Epoch:7 [14848/60000 (25%)]\tLoss: 0.566071\n",
            "Train Epoch:7 [30208/60000 (50%)]\tLoss: 0.493816\n",
            "Train Epoch:7 [45568/60000 (75%)]\tLoss: 0.591405\n",
            "\n",
            "Test set: Average loss: 0.5132, Accuracy: 8088/10000 (81%)\n",
            "\n",
            "==================================================\n",
            "Train Epoch:8 [14848/60000 (25%)]\tLoss: 0.483579\n",
            "Train Epoch:8 [30208/60000 (50%)]\tLoss: 0.492910\n",
            "Train Epoch:8 [45568/60000 (75%)]\tLoss: 0.426405\n",
            "\n",
            "Test set: Average loss: 0.4895, Accuracy: 8174/10000 (82%)\n",
            "\n",
            "==================================================\n",
            "Train Epoch:9 [14848/60000 (25%)]\tLoss: 0.484026\n",
            "Train Epoch:9 [30208/60000 (50%)]\tLoss: 0.431185\n",
            "Train Epoch:9 [45568/60000 (75%)]\tLoss: 0.481079\n",
            "\n",
            "Test set: Average loss: 0.4720, Accuracy: 8250/10000 (82%)\n",
            "\n",
            "==================================================\n",
            "Train Epoch:10 [14848/60000 (25%)]\tLoss: 0.451574\n",
            "Train Epoch:10 [30208/60000 (50%)]\tLoss: 0.521081\n",
            "Train Epoch:10 [45568/60000 (75%)]\tLoss: 0.445558\n",
            "\n",
            "Test set: Average loss: 0.4592, Accuracy: 8275/10000 (83%)\n",
            "\n",
            "==================================================\n",
            "Train Epoch:11 [14848/60000 (25%)]\tLoss: 0.452076\n",
            "Train Epoch:11 [30208/60000 (50%)]\tLoss: 0.500220\n",
            "Train Epoch:11 [45568/60000 (75%)]\tLoss: 0.413192\n",
            "\n",
            "Test set: Average loss: 0.4378, Accuracy: 8402/10000 (84%)\n",
            "\n",
            "==================================================\n",
            "Train Epoch:12 [14848/60000 (25%)]\tLoss: 0.416411\n",
            "Train Epoch:12 [30208/60000 (50%)]\tLoss: 0.427911\n",
            "Train Epoch:12 [45568/60000 (75%)]\tLoss: 0.395008\n",
            "\n",
            "Test set: Average loss: 0.4285, Accuracy: 8422/10000 (84%)\n",
            "\n",
            "==================================================\n",
            "Train Epoch:13 [14848/60000 (25%)]\tLoss: 0.469493\n",
            "Train Epoch:13 [30208/60000 (50%)]\tLoss: 0.416891\n",
            "Train Epoch:13 [45568/60000 (75%)]\tLoss: 0.389443\n",
            "\n",
            "Test set: Average loss: 0.4106, Accuracy: 8496/10000 (85%)\n",
            "\n",
            "==================================================\n",
            "Train Epoch:14 [14848/60000 (25%)]\tLoss: 0.402411\n",
            "Train Epoch:14 [30208/60000 (50%)]\tLoss: 0.346611\n",
            "Train Epoch:14 [45568/60000 (75%)]\tLoss: 0.411845\n",
            "\n",
            "Test set: Average loss: 0.4021, Accuracy: 8544/10000 (85%)\n",
            "\n",
            "==================================================\n",
            "Train Epoch:15 [14848/60000 (25%)]\tLoss: 0.356108\n",
            "Train Epoch:15 [30208/60000 (50%)]\tLoss: 0.412493\n",
            "Train Epoch:15 [45568/60000 (75%)]\tLoss: 0.385707\n",
            "\n",
            "Test set: Average loss: 0.3951, Accuracy: 8556/10000 (86%)\n",
            "\n",
            "==================================================\n",
            "CPU times: user 10min 3s, sys: 31.2 s, total: 10min 34s\n",
            "Wall time: 11min 33s\n"
          ],
          "name": "stdout"
        }
      ]
    },
    {
      "cell_type": "markdown",
      "metadata": {
        "id": "gi0CsZGSz6n6",
        "colab_type": "text"
      },
      "source": [
        "# **Tests with the new Adam**"
      ]
    },
    {
      "cell_type": "code",
      "metadata": {
        "id": "uokYkG3tSL04",
        "colab_type": "code",
        "colab": {}
      },
      "source": [
        "#optimizer2 = AdamE(model.parameters(),M = 20,lr = 5e-5)\n",
        "#optimizer2 = AdamE(model.parameters(),M = 20,lr = e-6)\n",
        "\n",
        "model.load_state_dict(torch.load('/content/gdrive/My Drive/initial_weights.pth'))\n",
        "model.eval()\n",
        "optimizer2 = AdamE(model.parameters(),M = 20,lr = 5e-6)"
      ],
      "execution_count": 0,
      "outputs": []
    },
    {
      "cell_type": "code",
      "metadata": {
        "colab_type": "code",
        "id": "KlUB8ebz0HDC",
        "colab": {}
      },
      "source": [
        "def train(model, device, train_loader, optimer, epoch):\n",
        "    model.train()\n",
        "    for batch_idx, (data, target) in enumerate(train_loader):\n",
        "        target = target.type(torch.LongTensor)\n",
        "        data, target = data.to(device), target.to(device)\n",
        "        optimizer2.zero_grad()\n",
        "        output = model(data)\n",
        "        loss = criterion(output, target)\n",
        "        loss.backward()\n",
        "        optimizer2.step()\n",
        "        if (batch_idx + 1) % 30 == 0:\n",
        "            print(\"Train Epoch:{} [{}/{} ({:.0f}%)]\\tLoss: {:.6f}\".format(\n",
        "                epoch, batch_idx * len(data), len(train_loader.dataset),\n",
        "                100. * batch_idx / len(train_loader), loss.item()))\n",
        "\n",
        "    checkpoint = {'model': fasion_mnist_alexnet(),\n",
        "                  'state_dict': model.state_dict(),\n",
        "                  'optimizer' : optimizer2.state_dict()}\n",
        "    torch.save(checkpoint, '/content/gdrive/My Drive/ADAME_fashion_mnist.pth')"
      ],
      "execution_count": 0,
      "outputs": []
    },
    {
      "cell_type": "code",
      "metadata": {
        "colab_type": "code",
        "id": "io3LLTTt0Mnn",
        "colab": {}
      },
      "source": [
        "accur=[]\n",
        "lss =[]\n",
        "def test(model, device, test_loader):\n",
        "    model.eval()\n",
        "    test_loss = 0\n",
        "    correct = 0\n",
        "    with torch.no_grad():\n",
        "        for data, target in test_loader:\n",
        "            data, target = data.to(device), target.to(device)\n",
        "            output = model(data)\n",
        "            test_loss += criterion(output, target, reduction='sum').item()\n",
        "            pred = output.max(1, keepdim=True)[1]\n",
        "            correct += pred.eq(target.view_as(pred)).sum().item()\n",
        "\n",
        "    test_loss /= len(test_loader.dataset)  \n",
        "    calcu = 100. * correct / len(test_loader.dataset)\n",
        "    accur.append(calcu)\n",
        "    lss.append(test_loss)\n",
        "    print(\"\\nTest set: Average loss: {:.4f}, Accuracy: {}/{} ({:.0f}%)\\n\".format(test_loss, correct, len(test_loader.dataset), 100. * correct / len(test_loader.dataset)))\n",
        "    print('='*50)"
      ],
      "execution_count": 0,
      "outputs": []
    },
    {
      "cell_type": "code",
      "metadata": {
        "colab_type": "code",
        "id": "kW8J6k-Y0Zdx",
        "outputId": "85aa5543-a06e-45d6-c598-b5ddd408e3a8",
        "colab": {
          "base_uri": "https://localhost:8080/",
          "height": 1000
        }
      },
      "source": [
        "%%time\n",
        "for epoch in range(1, EPOCHS+1):\n",
        "    train(model, DEVICE, train_loader, optimizer2, epoch)\n",
        "    test(model, DEVICE, test_loader)"
      ],
      "execution_count": 0,
      "outputs": [
        {
          "output_type": "stream",
          "text": [
            "Train Epoch:1 [14848/60000 (25%)]\tLoss: 2.284783\n",
            "Train Epoch:1 [30208/60000 (50%)]\tLoss: 2.154226\n",
            "Train Epoch:1 [45568/60000 (75%)]\tLoss: 1.572451\n"
          ],
          "name": "stdout"
        },
        {
          "output_type": "stream",
          "text": [
            "/usr/local/lib/python3.6/dist-packages/torch/serialization.py:360: UserWarning: Couldn't retrieve source code for container of type fasion_mnist_alexnet. It won't be checked for correctness upon loading.\n",
            "  \"type \" + obj.__name__ + \". It won't be checked \"\n"
          ],
          "name": "stderr"
        },
        {
          "output_type": "stream",
          "text": [
            "\n",
            "Test set: Average loss: 1.2114, Accuracy: 5123/10000 (51%)\n",
            "\n",
            "==================================================\n",
            "Train Epoch:2 [14848/60000 (25%)]\tLoss: 1.191042\n",
            "Train Epoch:2 [30208/60000 (50%)]\tLoss: 1.004699\n",
            "Train Epoch:2 [45568/60000 (75%)]\tLoss: 1.049938\n",
            "\n",
            "Test set: Average loss: 0.9723, Accuracy: 6421/10000 (64%)\n",
            "\n",
            "==================================================\n",
            "Train Epoch:3 [14848/60000 (25%)]\tLoss: 0.830511\n",
            "Train Epoch:3 [30208/60000 (50%)]\tLoss: 0.905717\n",
            "Train Epoch:3 [45568/60000 (75%)]\tLoss: 0.839822\n",
            "\n",
            "Test set: Average loss: 0.7687, Accuracy: 7190/10000 (72%)\n",
            "\n",
            "==================================================\n",
            "Train Epoch:4 [14848/60000 (25%)]\tLoss: 0.716982\n",
            "Train Epoch:4 [30208/60000 (50%)]\tLoss: 0.764979\n",
            "Train Epoch:4 [45568/60000 (75%)]\tLoss: 0.672274\n",
            "\n",
            "Test set: Average loss: 0.6623, Accuracy: 7477/10000 (75%)\n",
            "\n",
            "==================================================\n",
            "Train Epoch:5 [14848/60000 (25%)]\tLoss: 0.593750\n",
            "Train Epoch:5 [30208/60000 (50%)]\tLoss: 0.645094\n",
            "Train Epoch:5 [45568/60000 (75%)]\tLoss: 0.649194\n",
            "\n",
            "Test set: Average loss: 0.6102, Accuracy: 7661/10000 (77%)\n",
            "\n",
            "==================================================\n",
            "Train Epoch:6 [14848/60000 (25%)]\tLoss: 0.641346\n",
            "Train Epoch:6 [30208/60000 (50%)]\tLoss: 0.536033\n",
            "Train Epoch:6 [45568/60000 (75%)]\tLoss: 0.540048\n",
            "\n",
            "Test set: Average loss: 0.5640, Accuracy: 7828/10000 (78%)\n",
            "\n",
            "==================================================\n",
            "Train Epoch:7 [14848/60000 (25%)]\tLoss: 0.629718\n",
            "Train Epoch:7 [30208/60000 (50%)]\tLoss: 0.533347\n",
            "Train Epoch:7 [45568/60000 (75%)]\tLoss: 0.492850\n",
            "\n",
            "Test set: Average loss: 0.5299, Accuracy: 7974/10000 (80%)\n",
            "\n",
            "==================================================\n",
            "Train Epoch:8 [14848/60000 (25%)]\tLoss: 0.535720\n",
            "Train Epoch:8 [30208/60000 (50%)]\tLoss: 0.488865\n",
            "Train Epoch:8 [45568/60000 (75%)]\tLoss: 0.475630\n",
            "\n",
            "Test set: Average loss: 0.4884, Accuracy: 8179/10000 (82%)\n",
            "\n",
            "==================================================\n",
            "Train Epoch:9 [14848/60000 (25%)]\tLoss: 0.441388\n",
            "Train Epoch:9 [30208/60000 (50%)]\tLoss: 0.518530\n",
            "Train Epoch:9 [45568/60000 (75%)]\tLoss: 0.481638\n",
            "\n",
            "Test set: Average loss: 0.4554, Accuracy: 8276/10000 (83%)\n",
            "\n",
            "==================================================\n",
            "Train Epoch:10 [14848/60000 (25%)]\tLoss: 0.485071\n",
            "Train Epoch:10 [30208/60000 (50%)]\tLoss: 0.461392\n",
            "Train Epoch:10 [45568/60000 (75%)]\tLoss: 0.457293\n",
            "\n",
            "Test set: Average loss: 0.4419, Accuracy: 8343/10000 (83%)\n",
            "\n",
            "==================================================\n",
            "Train Epoch:11 [14848/60000 (25%)]\tLoss: 0.445408\n",
            "Train Epoch:11 [30208/60000 (50%)]\tLoss: 0.451351\n",
            "Train Epoch:11 [45568/60000 (75%)]\tLoss: 0.396885\n",
            "\n",
            "Test set: Average loss: 0.4100, Accuracy: 8460/10000 (85%)\n",
            "\n",
            "==================================================\n",
            "Train Epoch:12 [14848/60000 (25%)]\tLoss: 0.430756\n",
            "Train Epoch:12 [30208/60000 (50%)]\tLoss: 0.390296\n",
            "Train Epoch:12 [45568/60000 (75%)]\tLoss: 0.387657\n",
            "\n",
            "Test set: Average loss: 0.3917, Accuracy: 8554/10000 (86%)\n",
            "\n",
            "==================================================\n",
            "Train Epoch:13 [14848/60000 (25%)]\tLoss: 0.326996\n",
            "Train Epoch:13 [30208/60000 (50%)]\tLoss: 0.382433\n",
            "Train Epoch:13 [45568/60000 (75%)]\tLoss: 0.361751\n",
            "\n",
            "Test set: Average loss: 0.3756, Accuracy: 8567/10000 (86%)\n",
            "\n",
            "==================================================\n",
            "Train Epoch:14 [14848/60000 (25%)]\tLoss: 0.404944\n",
            "Train Epoch:14 [30208/60000 (50%)]\tLoss: 0.389327\n",
            "Train Epoch:14 [45568/60000 (75%)]\tLoss: 0.362317\n",
            "\n",
            "Test set: Average loss: 0.3568, Accuracy: 8655/10000 (87%)\n",
            "\n",
            "==================================================\n",
            "Train Epoch:15 [14848/60000 (25%)]\tLoss: 0.383177\n",
            "Train Epoch:15 [30208/60000 (50%)]\tLoss: 0.377883\n",
            "Train Epoch:15 [45568/60000 (75%)]\tLoss: 0.323024\n",
            "\n",
            "Test set: Average loss: 0.3453, Accuracy: 8713/10000 (87%)\n",
            "\n",
            "==================================================\n",
            "CPU times: user 9min 58s, sys: 33.3 s, total: 10min 31s\n",
            "Wall time: 11min 27s\n"
          ],
          "name": "stdout"
        }
      ]
    },
    {
      "cell_type": "code",
      "metadata": {
        "id": "_tqlZM6ugO3U",
        "colab_type": "code",
        "outputId": "6c7a134a-a6ad-4ffc-bf4b-15893aad2c2f",
        "colab": {
          "base_uri": "https://localhost:8080/",
          "height": 295
        }
      },
      "source": [
        "ff = [1,2,3,4,5,6,7,8,9,10,11,12,13,14,15]\n",
        "fig = plt.figure()\n",
        "\n",
        "\n",
        "plt.plot(ff,acc,color = 'green')\n",
        "plt.scatter(ff,acc,color = 'blue')\n",
        "plt.plot(ff,accur,color = 'red')\n",
        "plt.scatter(ff,accur,color = 'blue')\n",
        "\n",
        "\n",
        "plt.xlabel('EPOCHS')\n",
        "plt.ylabel('Accuracy')\n",
        "plt.title(\"Accuracy vs EPOCHS of Adam and AdamE on Fashion-MNIST\")\n",
        "plt.legend([\"Adam\",\"AdamE\"],loc=\"lower right\")\n",
        "\n",
        "\n",
        "plt.grid(color='black', linestyle='--', linewidth=0.5)"
      ],
      "execution_count": 0,
      "outputs": [
        {
          "output_type": "display_data",
          "data": {
            "image/png": "[encoded data removed]",
            "text/plain": [
              "<Figure size 432x288 with 1 Axes>"
            ]
          },
          "metadata": {
            "tags": [],
            "needs_background": "light"
          }
        }
      ]
    },
    {
      "cell_type": "code",
      "metadata": {
        "id": "AFpDF_2dnYtb",
        "colab_type": "code",
        "outputId": "b3baa95a-2edc-4d0d-9ac1-ee326f90cd0d",
        "colab": {
          "base_uri": "https://localhost:8080/",
          "height": 295
        }
      },
      "source": [
        "ff = [1,2,3,4,5,6,7,8,9,10,11,12,13,14,15]\n",
        "fig = plt.figure()\n",
        "plt.plot(ff,ls,color = 'green')\n",
        "plt.scatter(ff,ls,color = 'blue')\n",
        "plt.plot(ff,lss,color = 'red')\n",
        "plt.scatter(ff,lss,color = 'blue')\n",
        "\n",
        "\n",
        "plt.xlabel('EPOCHS')\n",
        "plt.ylabel('Loss')\n",
        "plt.title(\"Loss vs EPOCHS of Adam and AdamE on Fashion-MNIST\")\n",
        "plt.legend([\"Adam\",\"AdamE\"],loc=\"upper right\")\n",
        "\n",
        "\n",
        "plt.grid(color='black', linestyle='--', linewidth=0.5)"
      ],
      "execution_count": 0,
      "outputs": [
        {
          "output_type": "display_data",
          "data": {
            "image/png": "[encoded data removed]",
            "text/plain": [
              "<Figure size 432x288 with 1 Axes>"
            ]
          },
          "metadata": {
            "tags": [],
            "needs_background": "light"
          }
        }
      ]
    },
    {
      "cell_type": "code",
      "metadata": {
        "id": "8nPMsq7C1aQJ",
        "colab_type": "code",
        "colab": {}
      },
      "source": [
        ""
      ],
      "execution_count": 0,
      "outputs": []
    }
  ]
}